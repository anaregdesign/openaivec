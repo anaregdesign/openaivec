{
 "cells": [
  {
   "cell_type": "code",
   "execution_count": 1,
   "metadata": {},
   "outputs": [],
   "source": [
    "# Import necessary libraries\n",
    "from typing import List\n",
    "\n",
    "import pandas as pd\n",
    "from pydantic import BaseModel"
   ]
  },
  {
   "cell_type": "markdown",
   "metadata": {},
   "source": [
    "### Create a DataFrame\n",
    "\n",
    "We define a list of English entities and create a Pandas DataFrame from this list."
   ]
  },
  {
   "cell_type": "code",
   "execution_count": 2,
   "metadata": {},
   "outputs": [
    {
     "data": {
      "text/html": [
       "<div>\n",
       "<style scoped>\n",
       "    .dataframe tbody tr th:only-of-type {\n",
       "        vertical-align: middle;\n",
       "    }\n",
       "\n",
       "    .dataframe tbody tr th {\n",
       "        vertical-align: top;\n",
       "    }\n",
       "\n",
       "    .dataframe thead th {\n",
       "        text-align: right;\n",
       "    }\n",
       "</style>\n",
       "<table border=\"1\" class=\"dataframe\">\n",
       "  <thead>\n",
       "    <tr style=\"text-align: right;\">\n",
       "      <th></th>\n",
       "      <th>name</th>\n",
       "    </tr>\n",
       "  </thead>\n",
       "  <tbody>\n",
       "    <tr>\n",
       "      <th>0</th>\n",
       "      <td>apple</td>\n",
       "    </tr>\n",
       "    <tr>\n",
       "      <th>1</th>\n",
       "      <td>banana</td>\n",
       "    </tr>\n",
       "    <tr>\n",
       "      <th>2</th>\n",
       "      <td>orange</td>\n",
       "    </tr>\n",
       "    <tr>\n",
       "      <th>3</th>\n",
       "      <td>grape</td>\n",
       "    </tr>\n",
       "    <tr>\n",
       "      <th>4</th>\n",
       "      <td>kiwi</td>\n",
       "    </tr>\n",
       "    <tr>\n",
       "      <th>5</th>\n",
       "      <td>mango</td>\n",
       "    </tr>\n",
       "    <tr>\n",
       "      <th>6</th>\n",
       "      <td>peach</td>\n",
       "    </tr>\n",
       "    <tr>\n",
       "      <th>7</th>\n",
       "      <td>pear</td>\n",
       "    </tr>\n",
       "    <tr>\n",
       "      <th>8</th>\n",
       "      <td>pineapple</td>\n",
       "    </tr>\n",
       "    <tr>\n",
       "      <th>9</th>\n",
       "      <td>strawberry</td>\n",
       "    </tr>\n",
       "  </tbody>\n",
       "</table>\n",
       "</div>"
      ],
      "text/plain": [
       "         name\n",
       "0       apple\n",
       "1      banana\n",
       "2      orange\n",
       "3       grape\n",
       "4        kiwi\n",
       "5       mango\n",
       "6       peach\n",
       "7        pear\n",
       "8   pineapple\n",
       "9  strawberry"
      ]
     },
     "execution_count": 2,
     "metadata": {},
     "output_type": "execute_result"
    }
   ],
   "source": [
    "# Define a list of entities to translate\n",
    "fruits: List[str] = [\"apple\", \"banana\", \"orange\", \"grape\", \"kiwi\", \"mango\", \"peach\", \"pear\", \"pineapple\", \"strawberry\"]\n",
    "fruits_df = pd.DataFrame({\"name\": fruits})\n",
    "fruits_df"
   ]
  },
  {
   "cell_type": "markdown",
   "metadata": {},
   "source": [
    "# import openaivec.pandas_ext\n",
    "\n",
    "This example demonstrates how to integrate the `openaivec.pandas_ext` module with Pandas for text translation tasks. Follow the examples below for single and multi-language translations.\n",
    "\n",
    "If environment variavle `OPENAI_API_KEY` is set, `pandas_ext` automatically use the client `openai.OpenAI`.\n",
    "\n",
    "If environment variables `AZURE_OPENAI_API_KEY`, `AZURE_OPENAI_ENDPOINT` and `AZURE_OPENAI_API_VERSION` are set, `pandas_ext` automatically use the client `openai.AzureOpenAI`.\n",
    "\n",
    "If you must use specific instance of `openai.OpenAI`, please set client with `pandas_ext.use`."
   ]
  },
  {
   "cell_type": "code",
   "execution_count": 3,
   "metadata": {},
   "outputs": [],
   "source": [
    "import openai\n",
    "\n",
    "from openaivec import pandas_ext\n",
    "\n",
    "# Set OpenAI Client\n",
    "pandas_ext.use(openai.OpenAI())\n",
    "\n",
    "# Set models for responses and embeddings\n",
    "pandas_ext.responses_model(\"gpt-4o-mini\")\n",
    "pandas_ext.embeddings_model(\"text-embedding-3-small\")"
   ]
  },
  {
   "cell_type": "markdown",
   "metadata": {},
   "source": [
    "# Process the columns with OpenAI\n",
    "Once we load `pandas_ext`, we are able to process with series with simple accessof `pd.Series.ai.response`."
   ]
  },
  {
   "cell_type": "code",
   "execution_count": 4,
   "metadata": {},
   "outputs": [
    {
     "data": {
      "text/plain": [
       "0     pomme\n",
       "1    banane\n",
       "2    orange\n",
       "3    raisin\n",
       "4      kiwi\n",
       "5    mangue\n",
       "6     pêche\n",
       "7     poire\n",
       "8    ananas\n",
       "9    fraise\n",
       "Name: name, dtype: object"
      ]
     },
     "execution_count": 4,
     "metadata": {},
     "output_type": "execute_result"
    }
   ],
   "source": [
    "# Translate name to French and add as a new column\n",
    "s: pd.Series = fruits_df.name.ai.responses(\"translate to French\")\n",
    "\n",
    "s"
   ]
  },
  {
   "cell_type": "markdown",
   "metadata": {},
   "source": [
    "And embeddings also works with method `pd.Series.ai.embed`"
   ]
  },
  {
   "cell_type": "code",
   "execution_count": 5,
   "metadata": {},
   "outputs": [
    {
     "data": {
      "text/plain": [
       "0    [0.01764064, -0.016817328, -0.041843545, 0.019...\n",
       "1    [0.013411593, -0.020545648, -0.033350088, -0.0...\n",
       "2    [-0.025922043, -0.0055465647, -0.006110964, 0....\n",
       "3    [-0.038692072, 0.009548252, -0.020608373, -0.0...\n",
       "4    [-0.0057398607, -0.021460608, -0.026025245, 0....\n",
       "5    [0.055455774, -0.008839109, -0.019977605, -0.0...\n",
       "6    [0.030673496, -0.041959558, -0.013912023, 0.03...\n",
       "7    [0.023664422, -0.022354774, -0.008752595, 0.03...\n",
       "8    [0.020983547, -0.060567692, -0.002925918, 0.02...\n",
       "9    [0.020106195, -0.014350146, -0.040745355, -0.0...\n",
       "Name: name, dtype: object"
      ]
     },
     "execution_count": 5,
     "metadata": {},
     "output_type": "execute_result"
    }
   ],
   "source": [
    "e: pd.Series = fruits_df.name.ai.embeddings()\n",
    "\n",
    "e"
   ]
  },
  {
   "cell_type": "markdown",
   "metadata": {},
   "source": [
    "Count tokens with `pd.Series.ai.count_tokens`"
   ]
  },
  {
   "cell_type": "code",
   "execution_count": 6,
   "metadata": {},
   "outputs": [
    {
     "data": {
      "text/plain": [
       "0    1\n",
       "1    1\n",
       "2    1\n",
       "3    2\n",
       "4    2\n",
       "5    2\n",
       "6    2\n",
       "7    1\n",
       "8    2\n",
       "9    3\n",
       "Name: num_tokens, dtype: int64"
      ]
     },
     "execution_count": 6,
     "metadata": {},
     "output_type": "execute_result"
    }
   ],
   "source": [
    "num_tokens: pd.Series = fruits_df.name.ai.count_tokens()\n",
    "\n",
    "num_tokens"
   ]
  },
  {
   "cell_type": "markdown",
   "metadata": {},
   "source": [
    "# Structured Output with pandas_ext\n",
    "\n",
    "Structured output is also available in `pd.Series.ai.predict`."
   ]
  },
  {
   "cell_type": "code",
   "execution_count": 7,
   "metadata": {},
   "outputs": [
    {
     "data": {
      "text/plain": [
       "0    en='apple' fr='pomme' ja='リンゴ' es='manzana' de...\n",
       "1    en='banana' fr='banane' ja='バナナ' es='plátano' ...\n",
       "2    en='orange' fr='orange' ja='オレンジ' es='naranja'...\n",
       "3    en='grape' fr='raisin' ja='ぶどう' es='uva' de='T...\n",
       "4    en='kiwi' fr='kiwi' ja='キウイ' es='kiwi' de='Kiw...\n",
       "5    en='mango' fr='mangue' ja='マンゴー' es='mango' de...\n",
       "6    en='peach' fr='pêche' ja='桃' es='durazno' de='...\n",
       "7    en='pear' fr='poire' ja='梨' es='pera' de='Birn...\n",
       "8    en='pineapple' fr='ananas' ja='パイナップル' es='piñ...\n",
       "9    en='strawberry' fr='fraise' ja='いちご' es='fresa...\n",
       "Name: name, dtype: object"
      ]
     },
     "execution_count": 7,
     "metadata": {},
     "output_type": "execute_result"
    }
   ],
   "source": [
    "# Define a structured output model for translations (Example: using Pydantic for structured output)\n",
    "class Translation(BaseModel):\n",
    "    en: str  # English\n",
    "    fr: str  # French\n",
    "    ja: str  # Japanese\n",
    "    es: str  # Spanish\n",
    "    de: str  # German\n",
    "    it: str  # Italian\n",
    "    pt: str  # Portuguese\n",
    "    ru: str  # Russian\n",
    "\n",
    "translations: pd.Series = fruits_df.name.ai.responses(\n",
    "    instructions=\"translate to multiple languages\",\n",
    "    response_format=Translation\n",
    ")\n",
    "\n",
    "translations"
   ]
  },
  {
   "cell_type": "markdown",
   "metadata": {},
   "source": [
    "And these values of `pd.Series` are instance of `pydantic.BaseModel`. \n",
    "\n",
    "`pd.Series.ai.extract` method can parse each element as `pd.DataFrame`"
   ]
  },
  {
   "cell_type": "code",
   "execution_count": 8,
   "metadata": {},
   "outputs": [
    {
     "data": {
      "text/html": [
       "<div>\n",
       "<style scoped>\n",
       "    .dataframe tbody tr th:only-of-type {\n",
       "        vertical-align: middle;\n",
       "    }\n",
       "\n",
       "    .dataframe tbody tr th {\n",
       "        vertical-align: top;\n",
       "    }\n",
       "\n",
       "    .dataframe thead th {\n",
       "        text-align: right;\n",
       "    }\n",
       "</style>\n",
       "<table border=\"1\" class=\"dataframe\">\n",
       "  <thead>\n",
       "    <tr style=\"text-align: right;\">\n",
       "      <th></th>\n",
       "      <th>name_en</th>\n",
       "      <th>name_fr</th>\n",
       "      <th>name_ja</th>\n",
       "      <th>name_es</th>\n",
       "      <th>name_de</th>\n",
       "      <th>name_it</th>\n",
       "      <th>name_pt</th>\n",
       "      <th>name_ru</th>\n",
       "    </tr>\n",
       "  </thead>\n",
       "  <tbody>\n",
       "    <tr>\n",
       "      <th>0</th>\n",
       "      <td>apple</td>\n",
       "      <td>pomme</td>\n",
       "      <td>リンゴ</td>\n",
       "      <td>manzana</td>\n",
       "      <td>Apfel</td>\n",
       "      <td>mela</td>\n",
       "      <td>maçã</td>\n",
       "      <td>яблоко</td>\n",
       "    </tr>\n",
       "    <tr>\n",
       "      <th>1</th>\n",
       "      <td>banana</td>\n",
       "      <td>banane</td>\n",
       "      <td>バナナ</td>\n",
       "      <td>plátano</td>\n",
       "      <td>Banane</td>\n",
       "      <td>banana</td>\n",
       "      <td>banana</td>\n",
       "      <td>банан</td>\n",
       "    </tr>\n",
       "    <tr>\n",
       "      <th>2</th>\n",
       "      <td>orange</td>\n",
       "      <td>orange</td>\n",
       "      <td>オレンジ</td>\n",
       "      <td>naranja</td>\n",
       "      <td>Orange</td>\n",
       "      <td>arancia</td>\n",
       "      <td>laranja</td>\n",
       "      <td>апельсин</td>\n",
       "    </tr>\n",
       "    <tr>\n",
       "      <th>3</th>\n",
       "      <td>grape</td>\n",
       "      <td>raisin</td>\n",
       "      <td>ぶどう</td>\n",
       "      <td>uva</td>\n",
       "      <td>Traube</td>\n",
       "      <td>uva</td>\n",
       "      <td>uva</td>\n",
       "      <td>виноград</td>\n",
       "    </tr>\n",
       "    <tr>\n",
       "      <th>4</th>\n",
       "      <td>kiwi</td>\n",
       "      <td>kiwi</td>\n",
       "      <td>キウイ</td>\n",
       "      <td>kiwi</td>\n",
       "      <td>Kiwi</td>\n",
       "      <td>kiwi</td>\n",
       "      <td>kiwi</td>\n",
       "      <td>киви</td>\n",
       "    </tr>\n",
       "    <tr>\n",
       "      <th>5</th>\n",
       "      <td>mango</td>\n",
       "      <td>mangue</td>\n",
       "      <td>マンゴー</td>\n",
       "      <td>mango</td>\n",
       "      <td>Mango</td>\n",
       "      <td>mango</td>\n",
       "      <td>manga</td>\n",
       "      <td>манго</td>\n",
       "    </tr>\n",
       "    <tr>\n",
       "      <th>6</th>\n",
       "      <td>peach</td>\n",
       "      <td>pêche</td>\n",
       "      <td>桃</td>\n",
       "      <td>durazno</td>\n",
       "      <td>Pfirsich</td>\n",
       "      <td>pesca</td>\n",
       "      <td>pêssego</td>\n",
       "      <td>персик</td>\n",
       "    </tr>\n",
       "    <tr>\n",
       "      <th>7</th>\n",
       "      <td>pear</td>\n",
       "      <td>poire</td>\n",
       "      <td>梨</td>\n",
       "      <td>pera</td>\n",
       "      <td>Birne</td>\n",
       "      <td>pera</td>\n",
       "      <td>pera</td>\n",
       "      <td>груша</td>\n",
       "    </tr>\n",
       "    <tr>\n",
       "      <th>8</th>\n",
       "      <td>pineapple</td>\n",
       "      <td>ananas</td>\n",
       "      <td>パイナップル</td>\n",
       "      <td>piña</td>\n",
       "      <td>Ananas</td>\n",
       "      <td>ananas</td>\n",
       "      <td>abacaxi</td>\n",
       "      <td>ананас</td>\n",
       "    </tr>\n",
       "    <tr>\n",
       "      <th>9</th>\n",
       "      <td>strawberry</td>\n",
       "      <td>fraise</td>\n",
       "      <td>いちご</td>\n",
       "      <td>fresa</td>\n",
       "      <td>Erdbeere</td>\n",
       "      <td>fragola</td>\n",
       "      <td>morango</td>\n",
       "      <td>клубника</td>\n",
       "    </tr>\n",
       "  </tbody>\n",
       "</table>\n",
       "</div>"
      ],
      "text/plain": [
       "      name_en name_fr name_ja  name_es   name_de  name_it  name_pt   name_ru\n",
       "0       apple   pomme     リンゴ  manzana     Apfel     mela     maçã    яблоко\n",
       "1      banana  banane     バナナ  plátano    Banane   banana   banana     банан\n",
       "2      orange  orange    オレンジ  naranja    Orange  arancia  laranja  апельсин\n",
       "3       grape  raisin     ぶどう      uva    Traube      uva      uva  виноград\n",
       "4        kiwi    kiwi     キウイ     kiwi      Kiwi     kiwi     kiwi      киви\n",
       "5       mango  mangue    マンゴー    mango     Mango    mango    manga     манго\n",
       "6       peach   pêche       桃  durazno  Pfirsich    pesca  pêssego    персик\n",
       "7        pear   poire       梨     pera     Birne     pera     pera     груша\n",
       "8   pineapple  ananas  パイナップル     piña    Ananas   ananas  abacaxi    ананас\n",
       "9  strawberry  fraise     いちご    fresa  Erdbeere  fragola  morango  клубника"
      ]
     },
     "execution_count": 8,
     "metadata": {},
     "output_type": "execute_result"
    }
   ],
   "source": [
    "translations.ai.extract()"
   ]
  },
  {
   "cell_type": "markdown",
   "metadata": {},
   "source": [
    "# Example of Data Enrichment of fruit table\n",
    "\n",
    "These interfaces can be seamlessly integreted with `pd.DataFrame` APIs.\n",
    "\n",
    "Let's enrich your data with power of LLMs!"
   ]
  },
  {
   "cell_type": "code",
   "execution_count": null,
   "metadata": {},
   "outputs": [
    {
     "ename": "AttributeError",
     "evalue": "'OpenAIVecSeriesAccessor' object has no attribute 'response'",
     "output_type": "error",
     "traceback": [
      "\u001b[0;31m---------------------------------------------------------------------------\u001b[0m",
      "\u001b[0;31mAttributeError\u001b[0m                            Traceback (most recent call last)",
      "Cell \u001b[0;32mIn[9], line 1\u001b[0m\n\u001b[0;32m----> 1\u001b[0m \u001b[43mfruits_df\u001b[49m\u001b[38;5;241;43m.\u001b[39;49m\u001b[43mpipe\u001b[49m\u001b[43m(\u001b[49m\n\u001b[1;32m      2\u001b[0m \u001b[43m    \u001b[49m\u001b[38;5;66;43;03m# assign a new column\u001b[39;49;00m\n\u001b[1;32m      3\u001b[0m \u001b[43m    \u001b[49m\u001b[38;5;28;43;01mlambda\u001b[39;49;00m\u001b[43m \u001b[49m\u001b[43mdf\u001b[49m\u001b[43m:\u001b[49m\u001b[43m \u001b[49m\u001b[43mdf\u001b[49m\u001b[38;5;241;43m.\u001b[39;49m\u001b[43massign\u001b[49m\u001b[43m(\u001b[49m\n\u001b[1;32m      4\u001b[0m \u001b[43m        \u001b[49m\u001b[38;5;66;43;03m# Assign the color column using a openai model\u001b[39;49;00m\n\u001b[1;32m      5\u001b[0m \u001b[43m        \u001b[49m\u001b[43mcolor\u001b[49m\u001b[38;5;241;43m=\u001b[39;49m\u001b[38;5;28;43;01mlambda\u001b[39;49;00m\u001b[43m \u001b[49m\u001b[43mdf\u001b[49m\u001b[43m:\u001b[49m\u001b[43m \u001b[49m\u001b[43mdf\u001b[49m\u001b[38;5;241;43m.\u001b[39;49m\u001b[43mname\u001b[49m\u001b[38;5;241;43m.\u001b[39;49m\u001b[43mai\u001b[49m\u001b[38;5;241;43m.\u001b[39;49m\u001b[43mresponses\u001b[49m\u001b[43m(\u001b[49m\u001b[38;5;124;43m\"\u001b[39;49m\u001b[38;5;124;43mReturn the color of given fruit\u001b[39;49m\u001b[38;5;124;43m\"\u001b[39;49m\u001b[43m)\u001b[49m\u001b[43m,\u001b[49m\n\u001b[1;32m      6\u001b[0m \n\u001b[1;32m      7\u001b[0m \u001b[43m        \u001b[49m\u001b[38;5;66;43;03m# Assign the embedding column using a openai model\u001b[39;49;00m\n\u001b[1;32m      8\u001b[0m \u001b[43m        \u001b[49m\u001b[43membedding\u001b[49m\u001b[38;5;241;43m=\u001b[39;49m\u001b[38;5;28;43;01mlambda\u001b[39;49;00m\u001b[43m \u001b[49m\u001b[43mdf\u001b[49m\u001b[43m:\u001b[49m\u001b[43m \u001b[49m\u001b[43mdf\u001b[49m\u001b[38;5;241;43m.\u001b[39;49m\u001b[43mname\u001b[49m\u001b[38;5;241;43m.\u001b[39;49m\u001b[43mai\u001b[49m\u001b[38;5;241;43m.\u001b[39;49m\u001b[43membeddings\u001b[49m\u001b[43m(\u001b[49m\u001b[43m)\u001b[49m\u001b[43m,\u001b[49m\n\u001b[1;32m      9\u001b[0m \n\u001b[1;32m     10\u001b[0m \u001b[43m        \u001b[49m\u001b[38;5;66;43;03m# Assign the multilingual translation column using a openai model\u001b[39;49;00m\n\u001b[1;32m     11\u001b[0m \u001b[43m        \u001b[49m\u001b[43mtranslation\u001b[49m\u001b[38;5;241;43m=\u001b[39;49m\u001b[38;5;28;43;01mlambda\u001b[39;49;00m\u001b[43m \u001b[49m\u001b[43mdf\u001b[49m\u001b[43m:\u001b[49m\u001b[43m \u001b[49m\u001b[43mdf\u001b[49m\u001b[38;5;241;43m.\u001b[39;49m\u001b[43mname\u001b[49m\u001b[38;5;241;43m.\u001b[39;49m\u001b[43mai\u001b[49m\u001b[38;5;241;43m.\u001b[39;49m\u001b[43mresponse\u001b[49m\u001b[43m(\u001b[49m\n\u001b[1;32m     12\u001b[0m \u001b[43m            \u001b[49m\u001b[43minstructions\u001b[49m\u001b[38;5;241;43m=\u001b[39;49m\u001b[38;5;124;43m\"\u001b[39;49m\u001b[38;5;124;43mtranslate to multiple languages\u001b[39;49m\u001b[38;5;124;43m\"\u001b[39;49m\u001b[43m,\u001b[49m\n\u001b[1;32m     13\u001b[0m \u001b[43m            \u001b[49m\u001b[43mresponse_format\u001b[49m\u001b[38;5;241;43m=\u001b[39;49m\u001b[43mTranslation\u001b[49m\u001b[43m \u001b[49m\u001b[38;5;66;43;03m# Use the structured output model with pydantic.BaseModel\u001b[39;49;00m\n\u001b[1;32m     14\u001b[0m \u001b[43m        \u001b[49m\u001b[43m)\u001b[49m\n\u001b[1;32m     15\u001b[0m \u001b[43m    \u001b[49m\u001b[43m)\u001b[49m\n\u001b[1;32m     16\u001b[0m \u001b[43m    \u001b[49m\u001b[38;5;66;43;03m# Extract the translation column from the structured output\u001b[39;49;00m\n\u001b[1;32m     17\u001b[0m \u001b[43m    \u001b[49m\u001b[38;5;241;43m.\u001b[39;49m\u001b[43mai\u001b[49m\u001b[38;5;241;43m.\u001b[39;49m\u001b[43mextract\u001b[49m\u001b[43m(\u001b[49m\u001b[43mcolumn\u001b[49m\u001b[38;5;241;43m=\u001b[39;49m\u001b[38;5;124;43m\"\u001b[39;49m\u001b[38;5;124;43mtranslation\u001b[39;49m\u001b[38;5;124;43m\"\u001b[39;49m\u001b[43m)\u001b[49m\u001b[43m   \u001b[49m\n\u001b[1;32m     18\u001b[0m \u001b[43m)\u001b[49m\n",
      "File \u001b[0;32m~/IdeaProjects/openaivec/.venv/lib/python3.10/site-packages/pandas/core/generic.py:6231\u001b[0m, in \u001b[0;36mNDFrame.pipe\u001b[0;34m(self, func, *args, **kwargs)\u001b[0m\n\u001b[1;32m   6229\u001b[0m \u001b[38;5;28;01mif\u001b[39;00m using_copy_on_write():\n\u001b[1;32m   6230\u001b[0m     \u001b[38;5;28;01mreturn\u001b[39;00m common\u001b[38;5;241m.\u001b[39mpipe(\u001b[38;5;28mself\u001b[39m\u001b[38;5;241m.\u001b[39mcopy(deep\u001b[38;5;241m=\u001b[39m\u001b[38;5;28;01mNone\u001b[39;00m), func, \u001b[38;5;241m*\u001b[39margs, \u001b[38;5;241m*\u001b[39m\u001b[38;5;241m*\u001b[39mkwargs)\n\u001b[0;32m-> 6231\u001b[0m \u001b[38;5;28;01mreturn\u001b[39;00m \u001b[43mcommon\u001b[49m\u001b[38;5;241;43m.\u001b[39;49m\u001b[43mpipe\u001b[49m\u001b[43m(\u001b[49m\u001b[38;5;28;43mself\u001b[39;49m\u001b[43m,\u001b[49m\u001b[43m \u001b[49m\u001b[43mfunc\u001b[49m\u001b[43m,\u001b[49m\u001b[43m \u001b[49m\u001b[38;5;241;43m*\u001b[39;49m\u001b[43margs\u001b[49m\u001b[43m,\u001b[49m\u001b[43m \u001b[49m\u001b[38;5;241;43m*\u001b[39;49m\u001b[38;5;241;43m*\u001b[39;49m\u001b[43mkwargs\u001b[49m\u001b[43m)\u001b[49m\n",
      "File \u001b[0;32m~/IdeaProjects/openaivec/.venv/lib/python3.10/site-packages/pandas/core/common.py:502\u001b[0m, in \u001b[0;36mpipe\u001b[0;34m(obj, func, *args, **kwargs)\u001b[0m\n\u001b[1;32m    500\u001b[0m     \u001b[38;5;28;01mreturn\u001b[39;00m func(\u001b[38;5;241m*\u001b[39margs, \u001b[38;5;241m*\u001b[39m\u001b[38;5;241m*\u001b[39mkwargs)\n\u001b[1;32m    501\u001b[0m \u001b[38;5;28;01melse\u001b[39;00m:\n\u001b[0;32m--> 502\u001b[0m     \u001b[38;5;28;01mreturn\u001b[39;00m \u001b[43mfunc\u001b[49m\u001b[43m(\u001b[49m\u001b[43mobj\u001b[49m\u001b[43m,\u001b[49m\u001b[43m \u001b[49m\u001b[38;5;241;43m*\u001b[39;49m\u001b[43margs\u001b[49m\u001b[43m,\u001b[49m\u001b[43m \u001b[49m\u001b[38;5;241;43m*\u001b[39;49m\u001b[38;5;241;43m*\u001b[39;49m\u001b[43mkwargs\u001b[49m\u001b[43m)\u001b[49m\n",
      "Cell \u001b[0;32mIn[9], line 3\u001b[0m, in \u001b[0;36m<lambda>\u001b[0;34m(df)\u001b[0m\n\u001b[1;32m      1\u001b[0m fruits_df\u001b[38;5;241m.\u001b[39mpipe(\n\u001b[1;32m      2\u001b[0m     \u001b[38;5;66;03m# assign a new column\u001b[39;00m\n\u001b[0;32m----> 3\u001b[0m     \u001b[38;5;28;01mlambda\u001b[39;00m df: \u001b[43mdf\u001b[49m\u001b[38;5;241;43m.\u001b[39;49m\u001b[43massign\u001b[49m\u001b[43m(\u001b[49m\n\u001b[1;32m      4\u001b[0m \u001b[43m        \u001b[49m\u001b[38;5;66;43;03m# Assign the color column using a openai model\u001b[39;49;00m\n\u001b[1;32m      5\u001b[0m \u001b[43m        \u001b[49m\u001b[43mcolor\u001b[49m\u001b[38;5;241;43m=\u001b[39;49m\u001b[38;5;28;43;01mlambda\u001b[39;49;00m\u001b[43m \u001b[49m\u001b[43mdf\u001b[49m\u001b[43m:\u001b[49m\u001b[43m \u001b[49m\u001b[43mdf\u001b[49m\u001b[38;5;241;43m.\u001b[39;49m\u001b[43mname\u001b[49m\u001b[38;5;241;43m.\u001b[39;49m\u001b[43mai\u001b[49m\u001b[38;5;241;43m.\u001b[39;49m\u001b[43mresponses\u001b[49m\u001b[43m(\u001b[49m\u001b[38;5;124;43m\"\u001b[39;49m\u001b[38;5;124;43mReturn the color of given fruit\u001b[39;49m\u001b[38;5;124;43m\"\u001b[39;49m\u001b[43m)\u001b[49m\u001b[43m,\u001b[49m\n\u001b[1;32m      6\u001b[0m \n\u001b[1;32m      7\u001b[0m \u001b[43m        \u001b[49m\u001b[38;5;66;43;03m# Assign the embedding column using a openai model\u001b[39;49;00m\n\u001b[1;32m      8\u001b[0m \u001b[43m        \u001b[49m\u001b[43membedding\u001b[49m\u001b[38;5;241;43m=\u001b[39;49m\u001b[38;5;28;43;01mlambda\u001b[39;49;00m\u001b[43m \u001b[49m\u001b[43mdf\u001b[49m\u001b[43m:\u001b[49m\u001b[43m \u001b[49m\u001b[43mdf\u001b[49m\u001b[38;5;241;43m.\u001b[39;49m\u001b[43mname\u001b[49m\u001b[38;5;241;43m.\u001b[39;49m\u001b[43mai\u001b[49m\u001b[38;5;241;43m.\u001b[39;49m\u001b[43membeddings\u001b[49m\u001b[43m(\u001b[49m\u001b[43m)\u001b[49m\u001b[43m,\u001b[49m\n\u001b[1;32m      9\u001b[0m \n\u001b[1;32m     10\u001b[0m \u001b[43m        \u001b[49m\u001b[38;5;66;43;03m# Assign the multilingual translation column using a openai model\u001b[39;49;00m\n\u001b[1;32m     11\u001b[0m \u001b[43m        \u001b[49m\u001b[43mtranslation\u001b[49m\u001b[38;5;241;43m=\u001b[39;49m\u001b[38;5;28;43;01mlambda\u001b[39;49;00m\u001b[43m \u001b[49m\u001b[43mdf\u001b[49m\u001b[43m:\u001b[49m\u001b[43m \u001b[49m\u001b[43mdf\u001b[49m\u001b[38;5;241;43m.\u001b[39;49m\u001b[43mname\u001b[49m\u001b[38;5;241;43m.\u001b[39;49m\u001b[43mai\u001b[49m\u001b[38;5;241;43m.\u001b[39;49m\u001b[43mresponse\u001b[49m\u001b[43m(\u001b[49m\n\u001b[1;32m     12\u001b[0m \u001b[43m            \u001b[49m\u001b[43minstructions\u001b[49m\u001b[38;5;241;43m=\u001b[39;49m\u001b[38;5;124;43m\"\u001b[39;49m\u001b[38;5;124;43mtranslate to multiple languages\u001b[39;49m\u001b[38;5;124;43m\"\u001b[39;49m\u001b[43m,\u001b[49m\n\u001b[1;32m     13\u001b[0m \u001b[43m            \u001b[49m\u001b[43mresponse_format\u001b[49m\u001b[38;5;241;43m=\u001b[39;49m\u001b[43mTranslation\u001b[49m\u001b[43m \u001b[49m\u001b[38;5;66;43;03m# Use the structured output model with pydantic.BaseModel\u001b[39;49;00m\n\u001b[1;32m     14\u001b[0m \u001b[43m        \u001b[49m\u001b[43m)\u001b[49m\n\u001b[1;32m     15\u001b[0m \u001b[43m    \u001b[49m\u001b[43m)\u001b[49m\n\u001b[1;32m     16\u001b[0m     \u001b[38;5;66;03m# Extract the translation column from the structured output\u001b[39;00m\n\u001b[1;32m     17\u001b[0m     \u001b[38;5;241m.\u001b[39mai\u001b[38;5;241m.\u001b[39mextract(column\u001b[38;5;241m=\u001b[39m\u001b[38;5;124m\"\u001b[39m\u001b[38;5;124mtranslation\u001b[39m\u001b[38;5;124m\"\u001b[39m)   \n\u001b[1;32m     18\u001b[0m )\n",
      "File \u001b[0;32m~/IdeaProjects/openaivec/.venv/lib/python3.10/site-packages/pandas/core/frame.py:5239\u001b[0m, in \u001b[0;36mDataFrame.assign\u001b[0;34m(self, **kwargs)\u001b[0m\n\u001b[1;32m   5236\u001b[0m data \u001b[38;5;241m=\u001b[39m \u001b[38;5;28mself\u001b[39m\u001b[38;5;241m.\u001b[39mcopy(deep\u001b[38;5;241m=\u001b[39m\u001b[38;5;28;01mNone\u001b[39;00m)\n\u001b[1;32m   5238\u001b[0m \u001b[38;5;28;01mfor\u001b[39;00m k, v \u001b[38;5;129;01min\u001b[39;00m kwargs\u001b[38;5;241m.\u001b[39mitems():\n\u001b[0;32m-> 5239\u001b[0m     data[k] \u001b[38;5;241m=\u001b[39m \u001b[43mcom\u001b[49m\u001b[38;5;241;43m.\u001b[39;49m\u001b[43mapply_if_callable\u001b[49m\u001b[43m(\u001b[49m\u001b[43mv\u001b[49m\u001b[43m,\u001b[49m\u001b[43m \u001b[49m\u001b[43mdata\u001b[49m\u001b[43m)\u001b[49m\n\u001b[1;32m   5240\u001b[0m \u001b[38;5;28;01mreturn\u001b[39;00m data\n",
      "File \u001b[0;32m~/IdeaProjects/openaivec/.venv/lib/python3.10/site-packages/pandas/core/common.py:384\u001b[0m, in \u001b[0;36mapply_if_callable\u001b[0;34m(maybe_callable, obj, **kwargs)\u001b[0m\n\u001b[1;32m    373\u001b[0m \u001b[38;5;250m\u001b[39m\u001b[38;5;124;03m\"\"\"\u001b[39;00m\n\u001b[1;32m    374\u001b[0m \u001b[38;5;124;03mEvaluate possibly callable input using obj and kwargs if it is callable,\u001b[39;00m\n\u001b[1;32m    375\u001b[0m \u001b[38;5;124;03motherwise return as it is.\u001b[39;00m\n\u001b[0;32m   (...)\u001b[0m\n\u001b[1;32m    381\u001b[0m \u001b[38;5;124;03m**kwargs\u001b[39;00m\n\u001b[1;32m    382\u001b[0m \u001b[38;5;124;03m\"\"\"\u001b[39;00m\n\u001b[1;32m    383\u001b[0m \u001b[38;5;28;01mif\u001b[39;00m \u001b[38;5;28mcallable\u001b[39m(maybe_callable):\n\u001b[0;32m--> 384\u001b[0m     \u001b[38;5;28;01mreturn\u001b[39;00m \u001b[43mmaybe_callable\u001b[49m\u001b[43m(\u001b[49m\u001b[43mobj\u001b[49m\u001b[43m,\u001b[49m\u001b[43m \u001b[49m\u001b[38;5;241;43m*\u001b[39;49m\u001b[38;5;241;43m*\u001b[39;49m\u001b[43mkwargs\u001b[49m\u001b[43m)\u001b[49m\n\u001b[1;32m    386\u001b[0m \u001b[38;5;28;01mreturn\u001b[39;00m maybe_callable\n",
      "Cell \u001b[0;32mIn[9], line 11\u001b[0m, in \u001b[0;36m<lambda>.<locals>.<lambda>\u001b[0;34m(df)\u001b[0m\n\u001b[1;32m      1\u001b[0m fruits_df\u001b[38;5;241m.\u001b[39mpipe(\n\u001b[1;32m      2\u001b[0m     \u001b[38;5;66;03m# assign a new column\u001b[39;00m\n\u001b[1;32m      3\u001b[0m     \u001b[38;5;28;01mlambda\u001b[39;00m df: df\u001b[38;5;241m.\u001b[39massign(\n\u001b[1;32m      4\u001b[0m         \u001b[38;5;66;03m# Assign the color column using a openai model\u001b[39;00m\n\u001b[1;32m      5\u001b[0m         color\u001b[38;5;241m=\u001b[39m\u001b[38;5;28;01mlambda\u001b[39;00m df: df\u001b[38;5;241m.\u001b[39mname\u001b[38;5;241m.\u001b[39mai\u001b[38;5;241m.\u001b[39mresponses(\u001b[38;5;124m\"\u001b[39m\u001b[38;5;124mReturn the color of given fruit\u001b[39m\u001b[38;5;124m\"\u001b[39m),\n\u001b[1;32m      6\u001b[0m \n\u001b[1;32m      7\u001b[0m         \u001b[38;5;66;03m# Assign the embedding column using a openai model\u001b[39;00m\n\u001b[1;32m      8\u001b[0m         embedding\u001b[38;5;241m=\u001b[39m\u001b[38;5;28;01mlambda\u001b[39;00m df: df\u001b[38;5;241m.\u001b[39mname\u001b[38;5;241m.\u001b[39mai\u001b[38;5;241m.\u001b[39membeddings(),\n\u001b[1;32m      9\u001b[0m \n\u001b[1;32m     10\u001b[0m         \u001b[38;5;66;03m# Assign the multilingual translation column using a openai model\u001b[39;00m\n\u001b[0;32m---> 11\u001b[0m         translation\u001b[38;5;241m=\u001b[39m\u001b[38;5;28;01mlambda\u001b[39;00m df: \u001b[43mdf\u001b[49m\u001b[38;5;241;43m.\u001b[39;49m\u001b[43mname\u001b[49m\u001b[38;5;241;43m.\u001b[39;49m\u001b[43mai\u001b[49m\u001b[38;5;241;43m.\u001b[39;49m\u001b[43mresponse\u001b[49m(\n\u001b[1;32m     12\u001b[0m             instructions\u001b[38;5;241m=\u001b[39m\u001b[38;5;124m\"\u001b[39m\u001b[38;5;124mtranslate to multiple languages\u001b[39m\u001b[38;5;124m\"\u001b[39m,\n\u001b[1;32m     13\u001b[0m             response_format\u001b[38;5;241m=\u001b[39mTranslation \u001b[38;5;66;03m# Use the structured output model with pydantic.BaseModel\u001b[39;00m\n\u001b[1;32m     14\u001b[0m         )\n\u001b[1;32m     15\u001b[0m     )\n\u001b[1;32m     16\u001b[0m     \u001b[38;5;66;03m# Extract the translation column from the structured output\u001b[39;00m\n\u001b[1;32m     17\u001b[0m     \u001b[38;5;241m.\u001b[39mai\u001b[38;5;241m.\u001b[39mextract(column\u001b[38;5;241m=\u001b[39m\u001b[38;5;124m\"\u001b[39m\u001b[38;5;124mtranslation\u001b[39m\u001b[38;5;124m\"\u001b[39m)   \n\u001b[1;32m     18\u001b[0m )\n",
      "\u001b[0;31mAttributeError\u001b[0m: 'OpenAIVecSeriesAccessor' object has no attribute 'response'"
     ]
    }
   ],
   "source": [
    "fruits_df.pipe(\n",
    "    # assign a new column\n",
    "    lambda df: df.assign(\n",
    "        # Assign the color column using a openai model\n",
    "        color=lambda df: df.name.ai.responses(\"Return the color of given fruit\"),\n",
    "\n",
    "        # Assign the embedding column using a openai model\n",
    "        embedding=lambda df: df.name.ai.embeddings(),\n",
    "\n",
    "        # Assign the multilingual translation column using a openai model\n",
    "        translation=lambda df: df.name.ai.responses(\n",
    "            instructions=\"translate to multiple languages\",\n",
    "            response_format=Translation # Use the structured output model with pydantic.BaseModel\n",
    "        )\n",
    "    )\n",
    "    # Extract the translation column from the structured output\n",
    "    .ai.extract(column=\"translation\")   \n",
    ")"
   ]
  },
  {
   "cell_type": "code",
   "execution_count": null,
   "metadata": {},
   "outputs": [],
   "source": []
  }
 ],
 "metadata": {
  "kernelspec": {
   "display_name": ".venv",
   "language": "python",
   "name": "python3"
  },
  "language_info": {
   "codemirror_mode": {
    "name": "ipython",
    "version": 3
   },
   "file_extension": ".py",
   "mimetype": "text/x-python",
   "name": "python",
   "nbconvert_exporter": "python",
   "pygments_lexer": "ipython3",
   "version": "3.10.17"
  }
 },
 "nbformat": 4,
 "nbformat_minor": 2
}
