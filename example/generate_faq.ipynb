{
 "cells": [
  {
   "cell_type": "markdown",
   "id": "0634a0ee",
   "metadata": {},
   "source": [
    "# Generate FAQ for README\n",
    "\n",
    "Let's get start with pandas-chatflow!!"
   ]
  },
  {
   "cell_type": "code",
   "execution_count": 1,
   "id": "b89b858b",
   "metadata": {},
   "outputs": [
    {
     "name": "stderr",
     "output_type": "stream",
     "text": [
      "The model name 'gpt-4.1' is not supported by tiktoken. Instead, using the 'o200k_base' encoding.\n"
     ]
    }
   ],
   "source": [
    "from openai import OpenAI\n",
    "from openaivec import pandas_ext\n",
    "from pydantic import BaseModel, Field\n",
    "import pandas as pd\n",
    "\n",
    "pandas_ext.use(OpenAI())\n",
    "\n",
    "pandas_ext.responses_model(\"gpt-4.1\")"
   ]
  },
  {
   "cell_type": "code",
   "execution_count": 2,
   "id": "e4bb3a05",
   "metadata": {},
   "outputs": [
    {
     "data": {
      "text/html": [
       "<div>\n",
       "<style scoped>\n",
       "    .dataframe tbody tr th:only-of-type {\n",
       "        vertical-align: middle;\n",
       "    }\n",
       "\n",
       "    .dataframe tbody tr th {\n",
       "        vertical-align: top;\n",
       "    }\n",
       "\n",
       "    .dataframe thead th {\n",
       "        text-align: right;\n",
       "    }\n",
       "</style>\n",
       "<table border=\"1\" class=\"dataframe\">\n",
       "  <thead>\n",
       "    <tr style=\"text-align: right;\">\n",
       "      <th></th>\n",
       "      <th>body</th>\n",
       "    </tr>\n",
       "  </thead>\n",
       "  <tbody>\n",
       "    <tr>\n",
       "      <th>0</th>\n",
       "      <td># What is this?\\n\\nLet's dive into **Generativ...</td>\n",
       "    </tr>\n",
       "  </tbody>\n",
       "</table>\n",
       "</div>"
      ],
      "text/plain": [
       "                                                body\n",
       "0  # What is this?\\n\\nLet's dive into **Generativ..."
      ]
     },
     "execution_count": 2,
     "metadata": {},
     "output_type": "execute_result"
    }
   ],
   "source": [
    "docs_df: pd.DataFrame = pd.DataFrame(\n",
    "    {\"body\": [open(\"../README.md\").read()]}\n",
    ")\n",
    "docs_df"
   ]
  },
  {
   "cell_type": "code",
   "execution_count": 3,
   "id": "6bdba66d",
   "metadata": {},
   "outputs": [],
   "source": [
    "class Question(BaseModel):\n",
    "    question: str = Field(description=\"The question to ask the model.\")\n",
    "    answer: str = Field(description=\"The answer to the question.\")\n",
    "\n",
    "class Section(BaseModel):\n",
    "    title: str = Field(description=\"The title of the section.\")\n",
    "    content: str = Field(description=\"The content of the section.\")\n",
    "    questions: list[Question] = Field(description=\"List of questions and answers related to the section.\")\n",
    "\n",
    "class Document(BaseModel):\n",
    "    sections: list[Section] = Field(description=\"List of sections in the document.\")"
   ]
  },
  {
   "cell_type": "code",
   "execution_count": 4,
   "id": "00688466",
   "metadata": {},
   "outputs": [
    {
     "data": {
      "text/html": [
       "<div>\n",
       "<style scoped>\n",
       "    .dataframe tbody tr th:only-of-type {\n",
       "        vertical-align: middle;\n",
       "    }\n",
       "\n",
       "    .dataframe tbody tr th {\n",
       "        vertical-align: top;\n",
       "    }\n",
       "\n",
       "    .dataframe thead th {\n",
       "        text-align: right;\n",
       "    }\n",
       "</style>\n",
       "<table border=\"1\" class=\"dataframe\">\n",
       "  <thead>\n",
       "    <tr style=\"text-align: right;\">\n",
       "      <th></th>\n",
       "      <th>section_title</th>\n",
       "      <th>section_content</th>\n",
       "      <th>section_questions</th>\n",
       "    </tr>\n",
       "  </thead>\n",
       "  <tbody>\n",
       "    <tr>\n",
       "      <th>0</th>\n",
       "      <td>Introduction to Generative Mutation for Tabula...</td>\n",
       "      <td>This section introduces the concept of generat...</td>\n",
       "      <td>[{'question': 'What is generative mutation for...</td>\n",
       "    </tr>\n",
       "    <tr>\n",
       "      <th>0</th>\n",
       "      <td>Overview of openaivec Package</td>\n",
       "      <td>This section provides an overview of the opena...</td>\n",
       "      <td>[{'question': 'What is the main purpose of the...</td>\n",
       "    </tr>\n",
       "    <tr>\n",
       "      <th>0</th>\n",
       "      <td>Installation and Basic Usage</td>\n",
       "      <td>This section explains how to install and unins...</td>\n",
       "      <td>[{'question': 'How do you install openaivec?',...</td>\n",
       "    </tr>\n",
       "    <tr>\n",
       "      <th>0</th>\n",
       "      <td>Using openaivec with Pandas DataFrame</td>\n",
       "      <td>This section describes how to extend pandas.Se...</td>\n",
       "      <td>[{'question': 'How do you enable openaivec ext...</td>\n",
       "    </tr>\n",
       "    <tr>\n",
       "      <th>0</th>\n",
       "      <td>Using openaivec with Apache Spark UDF</td>\n",
       "      <td>This section explains how to create and regist...</td>\n",
       "      <td>[{'question': 'How do you create a UDF for Spa...</td>\n",
       "    </tr>\n",
       "    <tr>\n",
       "      <th>0</th>\n",
       "      <td>Building Prompts with FewShotPromptBuilder</td>\n",
       "      <td>This section covers how to build effective pro...</td>\n",
       "      <td>[{'question': 'What is few-shot learning in th...</td>\n",
       "    </tr>\n",
       "    <tr>\n",
       "      <th>0</th>\n",
       "      <td>Using openaivec with Microsoft Fabric</td>\n",
       "      <td>This section provides step-by-step instruction...</td>\n",
       "      <td>[{'question': 'How do you set up openaivec in ...</td>\n",
       "    </tr>\n",
       "    <tr>\n",
       "      <th>0</th>\n",
       "      <td>Contributing to openaivec</td>\n",
       "      <td>This section outlines the guidelines for contr...</td>\n",
       "      <td>[{'question': 'How can you contribute to opena...</td>\n",
       "    </tr>\n",
       "    <tr>\n",
       "      <th>0</th>\n",
       "      <td>Community and Support</td>\n",
       "      <td>This section provides information about the op...</td>\n",
       "      <td>[{'question': 'How can you join the openaivec ...</td>\n",
       "    </tr>\n",
       "  </tbody>\n",
       "</table>\n",
       "</div>"
      ],
      "text/plain": [
       "                                       section_title  \\\n",
       "0  Introduction to Generative Mutation for Tabula...   \n",
       "0                      Overview of openaivec Package   \n",
       "0                       Installation and Basic Usage   \n",
       "0              Using openaivec with Pandas DataFrame   \n",
       "0              Using openaivec with Apache Spark UDF   \n",
       "0         Building Prompts with FewShotPromptBuilder   \n",
       "0              Using openaivec with Microsoft Fabric   \n",
       "0                          Contributing to openaivec   \n",
       "0                              Community and Support   \n",
       "\n",
       "                                     section_content  \\\n",
       "0  This section introduces the concept of generat...   \n",
       "0  This section provides an overview of the opena...   \n",
       "0  This section explains how to install and unins...   \n",
       "0  This section describes how to extend pandas.Se...   \n",
       "0  This section explains how to create and regist...   \n",
       "0  This section covers how to build effective pro...   \n",
       "0  This section provides step-by-step instruction...   \n",
       "0  This section outlines the guidelines for contr...   \n",
       "0  This section provides information about the op...   \n",
       "\n",
       "                                   section_questions  \n",
       "0  [{'question': 'What is generative mutation for...  \n",
       "0  [{'question': 'What is the main purpose of the...  \n",
       "0  [{'question': 'How do you install openaivec?',...  \n",
       "0  [{'question': 'How do you enable openaivec ext...  \n",
       "0  [{'question': 'How do you create a UDF for Spa...  \n",
       "0  [{'question': 'What is few-shot learning in th...  \n",
       "0  [{'question': 'How do you set up openaivec in ...  \n",
       "0  [{'question': 'How can you contribute to opena...  \n",
       "0  [{'question': 'How can you join the openaivec ...  "
      ]
     },
     "execution_count": 4,
     "metadata": {},
     "output_type": "execute_result"
    }
   ],
   "source": [
    "sections_df = docs_df.pipe(\n",
    "    lambda df: df\n",
    "    .assign(\n",
    "        section=lambda df: df[\"body\"].ai.responses(\n",
    "            instructions=\"\"\"\n",
    "            Generate a list of FAQ for each section of the document. \n",
    "            Break down the document into as many detailed sections as possible, \n",
    "            regardless of their order and markdown format.\n",
    "            \"\"\",\n",
    "            response_format=Document\n",
    "        )\n",
    "        .map(lambda x: x.sections)\n",
    "    )\n",
    "    .drop(columns=[\"body\"])\n",
    "    .explode(\"section\")\n",
    "    .ai.extract(\"section\")\n",
    ")\n",
    "\n",
    "sections_df\n"
   ]
  },
  {
   "cell_type": "code",
   "execution_count": 5,
   "id": "128f35ce",
   "metadata": {},
   "outputs": [],
   "source": [
    "questions_df: pd.DataFrame = sections_df.pipe(\n",
    "    lambda df: df\n",
    "    .drop(columns=[\"section_content\"])\n",
    "    .explode(\"section_questions\")\n",
    "    .ai.extract(\"section_questions\")\n",
    "    .reset_index(drop=True)\n",
    ")\n"
   ]
  },
  {
   "cell_type": "code",
   "execution_count": 6,
   "id": "a8e170e8",
   "metadata": {},
   "outputs": [
    {
     "data": {
      "text/markdown": [
       "|    | section_title                                        | section_questions_question                                                   | section_questions_answer                                                                                                                                                                                                          |\n",
       "|---:|:-----------------------------------------------------|:-----------------------------------------------------------------------------|:----------------------------------------------------------------------------------------------------------------------------------------------------------------------------------------------------------------------------------|\n",
       "|  0 | Introduction to Generative Mutation for Tabular Data | What is generative mutation for tabular data?                                | Generative mutation refers to the process of transforming or mutating tabular data (such as pandas Series or DataFrames) using natural language instructions, often powered by large language models (LLMs) like OpenAI's models. |\n",
       "|  1 | Introduction to Generative Mutation for Tabular Data | How do you mutate a pandas Series with natural language?                     | You can use the ai.responses accessor on a pandas Series to apply natural language instructions. For example: animals.ai.responses('Translate the animal names to Chinese.').                                                     |\n",
       "|  2 | Introduction to Generative Mutation for Tabular Data | What is the result of translating animal names to Chinese using this method? | The result is a list of Chinese translations for the animal names, e.g., ['熊猫', '考拉', '蟒蛇', '狗', '猫'].                                                                                                                    |\n",
       "|  3 | Introduction to Generative Mutation for Tabular Data | Can you perform multiple mutations at once?                                  | Yes, you can use the assign method in pandas to add multiple mutated columns at once, each with its own natural language instruction.                                                                                             |\n",
       "|  4 | Overview of openaivec Package                        | What is the main purpose of the openaivec package?                           | The main purpose is to provide a vectorized interface for the OpenAI API, enabling efficient processing of multiple inputs at once and seamless integration with data processing tools like Pandas and Apache Spark.              |\n",
       "|  5 | Overview of openaivec Package                        | What are the key features of openaivec?                                      | Key features include vectorized API requests, integration with Pandas DataFrames, a UDF builder for Apache Spark, and compatibility with multiple OpenAI clients including Azure OpenAI.                                          |\n",
       "|  6 | Overview of openaivec Package                        | What are the requirements to use openaivec?                                  | You need Python 3.10 or higher.                                                                                                                                                                                                   |\n",
       "|  7 | Installation and Basic Usage                         | How do you install openaivec?                                                | Run pip install openaivec in your terminal.                                                                                                                                                                                       |\n",
       "|  8 | Installation and Basic Usage                         | How do you uninstall openaivec?                                              | Run pip uninstall openaivec in your terminal.                                                                                                                                                                                     |\n",
       "|  9 | Installation and Basic Usage                         | How do you use openaivec with the OpenAI client?                             | You initialize a VectorizedResponsesOpenAI client with your desired parameters and use the parse method to process a list of inputs.                                                                                              |\n",
       "| 10 | Using openaivec with Pandas DataFrame                | How do you enable openaivec extensions in pandas?                            | Import pandas_ext from openaivec and call pandas_ext.use(OpenAI()) to set the OpenAI client.                                                                                                                                      |\n",
       "| 11 | Using openaivec with Pandas DataFrame                | How do you specify models for responses and embeddings?                      | Use pandas_ext.responses_model('model-name') and pandas_ext.embeddings_model('model-name') to set the models.                                                                                                                     |\n",
       "| 12 | Using openaivec with Pandas DataFrame                | How do you apply natural language mutations to a DataFrame column?           | Use the assign method with lambda functions that call ai.responses on the desired Series.                                                                                                                                         |\n",
       "| 13 | Using openaivec with Apache Spark UDF                | How do you create a UDF for Spark with openaivec?                            | Use UDFBuilder.of_azureopenai or UDFBuilder with the appropriate parameters to create a UDF, then register it with spark.udf.register.                                                                                            |\n",
       "| 14 | Using openaivec with Apache Spark UDF                | What are some example use cases for Spark UDFs with openaivec?               | Examples include extracting flavor or product type from product names using natural language instructions.                                                                                                                        |\n",
       "| 15 | Using openaivec with Apache Spark UDF                | How do you use the registered UDFs in Spark SQL?                             | Call the UDFs in your SQL queries, e.g., SELECT id, product_name, parse_taste(product_name) AS taste FROM product_names;                                                                                                          |\n",
       "| 16 | Building Prompts with FewShotPromptBuilder           | What is few-shot learning in the context of LLMs?                            | Few-shot learning involves providing a few examples in the prompt to guide the LLM's behavior and improve its performance.                                                                                                        |\n",
       "| 17 | Building Prompts with FewShotPromptBuilder           | How do you build a few-shot prompt with openaivec?                           | Use FewShotPromptBuilder to set the purpose, cautions, and examples, then call build to generate the prompt.                                                                                                                      |\n",
       "| 18 | Building Prompts with FewShotPromptBuilder           | What does the improve method do?                                             | The improve method uses OpenAI's API to refine the prompt by eliminating contradictions, ambiguities, and redundancies, iterating up to a specified number of times.                                                              |\n",
       "| 19 | Using openaivec with Microsoft Fabric                | How do you set up openaivec in Microsoft Fabric?                             | Create a new environment in Microsoft Fabric, add openaivec from PyPI to the environment's custom library, and select the environment in your notebook.                                                                           |\n",
       "| 20 | Using openaivec with Microsoft Fabric                | How do you use openaivec in a Microsoft Fabric notebook?                     | Import and use openaivec.spark.UDFBuilder as you would in a regular Python environment.                                                                                                                                           |\n",
       "| 21 | Contributing to openaivec                            | How can you contribute to openaivec?                                         | Fork the repository, create a branch from main, add tests for new code, ensure tests pass, and make sure your code lints.                                                                                                         |\n",
       "| 22 | Contributing to openaivec                            | How do you install development dependencies?                                 | Run uv sync --all-extras --dev.                                                                                                                                                                                                   |\n",
       "| 23 | Contributing to openaivec                            | How do you reformat the code?                                                | Run uv run ruff check . --fix.                                                                                                                                                                                                    |\n",
       "| 24 | Community and Support                                | How can you join the openaivec community?                                    | Join the Discord community for developers at https://discord.gg/vbb83Pgn.                                                                                                                                                         |"
      ],
      "text/plain": [
       "<IPython.core.display.Markdown object>"
      ]
     },
     "metadata": {},
     "output_type": "display_data"
    }
   ],
   "source": [
    "from IPython.display import Markdown, display\n",
    "\n",
    "display(Markdown(questions_df.to_markdown()))"
   ]
  },
  {
   "cell_type": "code",
   "execution_count": null,
   "id": "a1511306",
   "metadata": {},
   "outputs": [],
   "source": []
  }
 ],
 "metadata": {
  "kernelspec": {
   "display_name": ".venv",
   "language": "python",
   "name": "python3"
  },
  "language_info": {
   "codemirror_mode": {
    "name": "ipython",
    "version": 3
   },
   "file_extension": ".py",
   "mimetype": "text/x-python",
   "name": "python",
   "nbconvert_exporter": "python",
   "pygments_lexer": "ipython3",
   "version": "3.10.17"
  }
 },
 "nbformat": 4,
 "nbformat_minor": 5
}
