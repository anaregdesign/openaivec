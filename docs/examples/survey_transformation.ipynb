{
 "cells": [
  {
   "cell_type": "markdown",
   "metadata": {},
   "source": [
    "# Survey Data Transformation\n",
    "\n",
    "Transform unstructured survey responses into structured, analysis-ready datasets using openaivec."
   ]
  },
  {
   "cell_type": "code",
   "execution_count": null,
   "metadata": {},
   "outputs": [],
   "source": [
    "import pandas as pd\n",
    "from openaivec import pandas_ext\n",
    "from pydantic import BaseModel\n",
    "from typing import List, Optional\n",
    "\n",
    "pandas_ext.responses_model(\"gpt-4o-mini\")"
   ]
  },
  {
   "cell_type": "markdown",
   "metadata": {},
   "source": [
    "## Sample Survey Data\n",
    "\n",
    "Realistic free-form survey responses from various demographic groups."
   ]
  },
  {
   "cell_type": "code",
   "execution_count": null,
   "metadata": {},
   "outputs": [],
   "source": [
    "# Sample survey responses\n",
    "survey_responses = [\n",
    "    \"I'm a 28-year-old software engineer from San Francisco. I love hiking, coding, and coffee. Currently working on AI projects.\",\n",
    "    \"45 years old, marketing manager in NYC. Interests include yoga, reading business books, and traveling to Europe.\",\n",
    "    \"College student, 20, studying biology in Boston. Enjoys gaming, anime, and volunteer work at animal shelters.\",\n",
    "    \"Retired teacher, 62, living in Austin Texas. Passionate about gardening, cooking, and spending time with grandchildren.\",\n",
    "    \"35-year-old doctor from Chicago, specializing in pediatrics. Hobbies are running marathons and playing piano.\",\n",
    "    \"Freelance graphic designer, 29, based in Portland. Into rock climbing, photography, and sustainable living.\",\n",
    "    \"High school student, 17, from Miami. Loves basketball, music production, and dreams of becoming a filmmaker.\",\n",
    "    \"Small business owner, 52, runs a bakery in Denver. Enjoys baking (obviously), hiking, and local community events.\",\n",
    "    \"Data scientist, 31, working remotely from Vancouver. Interested in machine learning, skiing, and craft beer.\",\n",
    "    \"Stay-at-home parent, 38, from Phoenix. Passionate about child development, crafting, and organizing community activities.\"\n",
    "]\n",
    "\n",
    "survey_df = pd.DataFrame({\n",
    "    \"response_id\": [f\"RESP_{i:03d}\" for i in range(1, len(survey_responses) + 1)],\n",
    "    \"response\": survey_responses\n",
    "})\n",
    "\n",
    "survey_df.head()"
   ]
  },
  {
   "cell_type": "markdown",
   "metadata": {},
   "source": [
    "## Define Structured Output Schema\n",
    "\n",
    "Create comprehensive demographic and interest profiles."
   ]
  },
  {
   "cell_type": "code",
   "execution_count": null,
   "metadata": {},
   "outputs": [],
   "source": [
    "class Demographics(BaseModel):\n",
    "    age: Optional[int]\n",
    "    age_group: str  # \"18-25\", \"26-35\", \"36-45\", \"46-55\", \"56+\"\n",
    "    occupation: str\n",
    "    occupation_category: str  # \"technology\", \"healthcare\", \"education\", etc.\n",
    "    location: str\n",
    "    location_type: str  # \"urban\", \"suburban\", \"rural\"\n",
    "    life_stage: str  # \"student\", \"professional\", \"parent\", \"retired\"\n",
    "\n",
    "class Interests(BaseModel):\n",
    "    primary_interests: List[str]\n",
    "    hobby_categories: List[str]  # \"sports\", \"arts\", \"technology\", etc.\n",
    "    lifestyle_indicators: List[str]  # \"active\", \"creative\", \"social\", etc.\n",
    "\n",
    "class PersonProfile(BaseModel):\n",
    "    demographics: Demographics\n",
    "    interests: Interests\n",
    "    personality_traits: List[str]\n",
    "    potential_products: List[str]  # Products/services they might be interested in"
   ]
  },
  {
   "cell_type": "markdown",
   "metadata": {},
   "source": [
    "## Transform Unstructured to Structured\n",
    "\n",
    "Extract comprehensive profiles from free-text responses."
   ]
  },
  {
   "cell_type": "code",
   "execution_count": null,
   "metadata": {},
   "outputs": [],
   "source": [
    "# Extract structured profiles\n",
    "structured_df = survey_df.assign(\n",
    "    profile=lambda df: df.response.ai.responses(\n",
    "        instructions=\"\"\"\n",
    "        Extract comprehensive demographic and interest information from the survey response.\n",
    "        Infer missing information based on context clues when reasonable.\n",
    "        Categorize interests and suggest relevant product categories.\n",
    "        \"\"\",\n",
    "        response_format=PersonProfile\n",
    "    )\n",
    ").ai.extract(\"profile\")\n",
    "\n",
    "structured_df.head()"
   ]
  },
  {
   "cell_type": "markdown",
   "metadata": {},
   "source": [
    "## Demographic Analysis\n",
    "\n",
    "Extract demographic insights from the structured data."
   ]
  },
  {
   "cell_type": "code",
   "execution_count": null,
   "metadata": {},
   "outputs": [],
   "source": [
    "# Age distribution\n",
    "print(\"AGE GROUP DISTRIBUTION:\")\n",
    "age_dist = structured_df.profile_demographics_age_group.value_counts()\n",
    "print(age_dist)\n",
    "\n",
    "print(\"\\n\" + \"=\"*50 + \"\\n\")\n",
    "\n",
    "# Occupation categories\n",
    "print(\"OCCUPATION CATEGORIES:\")\n",
    "occ_dist = structured_df.profile_demographics_occupation_category.value_counts()\n",
    "print(occ_dist)\n",
    "\n",
    "print(\"\\n\" + \"=\"*50 + \"\\n\")\n",
    "\n",
    "# Life stages\n",
    "print(\"LIFE STAGE DISTRIBUTION:\")\n",
    "life_dist = structured_df.profile_demographics_life_stage.value_counts()\n",
    "print(life_dist)"
   ]
  },
  {
   "cell_type": "markdown",
   "metadata": {},
   "source": [
    "## Interest Pattern Analysis\n",
    "\n",
    "Analyze hobby and interest patterns across demographics."
   ]
  },
  {
   "cell_type": "code",
   "execution_count": null,
   "metadata": {},
   "outputs": [],
   "source": [
    "# Explode interest categories for analysis\n",
    "interests_expanded = structured_df.explode('profile_interests_hobby_categories')\n",
    "\n",
    "print(\"TOP HOBBY CATEGORIES:\")\n",
    "hobby_counts = interests_expanded.profile_interests_hobby_categories.value_counts()\n",
    "print(hobby_counts.head(10))\n",
    "\n",
    "print(\"\\n\" + \"=\"*50 + \"\\n\")\n",
    "\n",
    "# Lifestyle patterns\n",
    "lifestyle_expanded = structured_df.explode('profile_interests_lifestyle_indicators')\n",
    "print(\"LIFESTYLE INDICATORS:\")\n",
    "lifestyle_counts = lifestyle_expanded.profile_interests_lifestyle_indicators.value_counts()\n",
    "print(lifestyle_counts.head(10))"
   ]
  },
  {
   "cell_type": "markdown",
   "metadata": {},
   "source": [
    "## Market Segmentation\n",
    "\n",
    "Create customer segments based on extracted profiles."
   ]
  },
  {
   "cell_type": "code",
   "execution_count": null,
   "metadata": {},
   "outputs": [],
   "source": [
    "# Generate market segments\n",
    "segments_df = structured_df.assign(\n",
    "    segment=lambda df: df.apply(\n",
    "        lambda row: f\"{row.profile_demographics_age_group}_{row.profile_demographics_occupation_category}\", \n",
    "        axis=1\n",
    "    )\n",
    ")\n",
    "\n",
    "print(\"MARKET SEGMENTS:\")\n",
    "segment_counts = segments_df.segment.value_counts()\n",
    "print(segment_counts)\n",
    "\n",
    "print(\"\\n\" + \"=\"*50 + \"\\n\")\n",
    "\n",
    "# Product recommendations by segment\n",
    "print(\"PRODUCT OPPORTUNITIES BY SEGMENT:\")\n",
    "for segment in segment_counts.index[:5]:  # Top 5 segments\n",
    "    segment_data = segments_df[segments_df.segment == segment]\n",
    "    print(f\"\\n📊 {segment.upper()}:\")\n",
    "    \n",
    "    # Get all product suggestions for this segment\n",
    "    products = []\n",
    "    for products_list in segment_data.profile_potential_products:\n",
    "        products.extend(products_list)\n",
    "    \n",
    "    # Count and display top products\n",
    "    from collections import Counter\n",
    "    product_counter = Counter(products)\n",
    "    for product, count in product_counter.most_common(3):\n",
    "        print(f\"   • {product} ({count} mentions)\")"
   ]
  },
  {
   "cell_type": "markdown",
   "metadata": {},
   "source": [
    "## Export for Analysis\n",
    "\n",
    "Prepare clean datasets for business intelligence tools."
   ]
  },
  {
   "cell_type": "code",
   "execution_count": null,
   "metadata": {},
   "outputs": [],
   "source": [
    "# Create clean demographic table\n",
    "demographics_clean = structured_df[[\n",
    "    'response_id',\n",
    "    'profile_demographics_age',\n",
    "    'profile_demographics_age_group', \n",
    "    'profile_demographics_occupation',\n",
    "    'profile_demographics_occupation_category',\n",
    "    'profile_demographics_location',\n",
    "    'profile_demographics_location_type',\n",
    "    'profile_demographics_life_stage'\n",
    "]].copy()\n",
    "\n",
    "print(\"📊 CLEAN DEMOGRAPHICS TABLE:\")\n",
    "print(demographics_clean.head())\n",
    "\n",
    "# Save to CSV for external analysis\n",
    "# demographics_clean.to_csv('demographics_analysis.csv', index=False)\n",
    "# print(\"\\n💾 Data exported to demographics_analysis.csv\")"
   ]
  },
  {
   "cell_type": "markdown",
   "metadata": {},
   "source": [
    "## Conclusion\n",
    "\n",
    "This notebook demonstrates how openaivec transforms unstructured survey data into:\n",
    "\n",
    "- **Structured Demographics**: Age, occupation, location, life stage\n",
    "- **Interest Profiles**: Hobbies, lifestyle indicators, personality traits  \n",
    "- **Market Segments**: Actionable customer groupings\n",
    "- **Product Opportunities**: Data-driven recommendation insights\n",
    "- **Analysis-Ready Data**: Clean datasets for BI tools\n",
    "\n",
    "Scale this approach to thousands of survey responses for comprehensive market research."
   ]
  }
 ],
 "metadata": {
  "kernelspec": {
   "display_name": "Python 3",
   "language": "python",
   "name": "python3"
  },
  "language_info": {
   "codemirror_mode": {
    "name": "ipython",
    "version": 3
   },
   "file_extension": ".py",
   "mimetype": "text/x-python",
   "name": "python",
   "nbconvert_exporter": "python",
   "pygments_lexer": "ipython3",
   "version": "3.10.0"
  }
 },
 "nbformat": 4,
 "nbformat_minor": 4
}