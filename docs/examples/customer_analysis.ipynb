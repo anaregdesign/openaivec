{
 "cells": [
  {
   "cell_type": "markdown",
   "metadata": {},
   "source": [
    "# Customer Feedback Analysis\n",
    "\n",
    "This notebook demonstrates how to analyze large-scale customer feedback using openaivec for sentiment analysis, categorization, and priority assignment."
   ]
  },
  {
   "cell_type": "code",
   "execution_count": null,
   "metadata": {},
   "outputs": [],
   "source": [
    "import pandas as pd\n",
    "from openaivec import pandas_ext\n",
    "from pydantic import BaseModel\n",
    "from typing import Literal\n",
    "\n",
    "# Setup\n",
    "pandas_ext.responses_model(\"gpt-4o-mini\")"
   ]
  },
  {
   "cell_type": "markdown",
   "metadata": {},
   "source": [
    "## Sample Customer Feedback Data\n",
    "\n",
    "Let's create realistic customer feedback data representing various scenarios."
   ]
  },
  {
   "cell_type": "code",
   "execution_count": null,
   "metadata": {},
   "outputs": [],
   "source": [
    "# Sample customer feedback data\n",
    "feedback_data = [\n",
    "    \"The product quality is excellent, but delivery took 3 weeks. Very disappointed with shipping.\",\n",
    "    \"Amazing customer service! Sarah helped me resolve my issue in 5 minutes. Will definitely buy again.\",\n",
    "    \"App keeps crashing when I try to checkout. This is the third time this week. Fix your software!\",\n",
    "    \"Love the new design updates. Much more user-friendly than before. Great job team!\",\n",
    "    \"Pricing is too high compared to competitors. $50 for basic features is unreasonable.\",\n",
    "    \"Website is slow and confusing. Took me 20 minutes to find what I was looking for.\",\n",
    "    \"Perfect packaging, fast delivery, excellent product. 5 stars!\",\n",
    "    \"Customer support never responds to emails. Been waiting 2 weeks for a refund.\",\n",
    "    \"The mobile app crashes every time I try to upload photos. Please fix this bug.\",\n",
    "    \"Great value for money. Been using this service for 2 years now, consistently good.\"\n",
    "]\n",
    "\n",
    "customer_df = pd.DataFrame({\n",
    "    \"customer_id\": [f\"CUST_{i:03d}\" for i in range(1, len(feedback_data) + 1)],\n",
    "    \"feedback\": feedback_data,\n",
    "    \"date\": pd.date_range(\"2024-01-01\", periods=len(feedback_data), freq=\"D\")\n",
    "})\n",
    "\n",
    "customer_df.head()"
   ]
  },
  {
   "cell_type": "markdown",
   "metadata": {},
   "source": [
    "## Structured Analysis\n",
    "\n",
    "Define a structured output format for comprehensive feedback analysis."
   ]
  },
  {
   "cell_type": "code",
   "execution_count": null,
   "metadata": {},
   "outputs": [],
   "source": [
    "class FeedbackAnalysis(BaseModel):\n",
    "    sentiment: Literal[\"positive\", \"negative\", \"neutral\"]\n",
    "    category: Literal[\"product\", \"service\", \"delivery\", \"pricing\", \"technical\", \"website\"]\n",
    "    priority: Literal[\"low\", \"medium\", \"high\", \"urgent\"]\n",
    "    main_issue: str\n",
    "    action_needed: str\n",
    "    customer_emotion: Literal[\"satisfied\", \"frustrated\", \"angry\", \"delighted\", \"neutral\"]"
   ]
  },
  {
   "cell_type": "markdown",
   "metadata": {},
   "source": [
    "## AI-Powered Analysis\n",
    "\n",
    "Process all feedback with structured analysis in a single operation."
   ]
  },
  {
   "cell_type": "code",
   "execution_count": null,
   "metadata": {},
   "outputs": [],
   "source": [
    "# Comprehensive feedback analysis\n",
    "analyzed_df = customer_df.assign(\n",
    "    analysis=lambda df: df.feedback.ai.responses(\n",
    "        instructions=\"\"\"\n",
    "        Analyze the customer feedback and provide structured insights including:\n",
    "        - Sentiment classification\n",
    "        - Issue categorization  \n",
    "        - Priority level for follow-up\n",
    "        - Main issue summary\n",
    "        - Recommended action\n",
    "        - Customer emotional state\n",
    "        \"\"\",\n",
    "        response_format=FeedbackAnalysis\n",
    "    )\n",
    ").ai.extract(\"analysis\")\n",
    "\n",
    "analyzed_df.head()"
   ]
  },
  {
   "cell_type": "markdown",
   "metadata": {},
   "source": [
    "## Business Intelligence Dashboard\n",
    "\n",
    "Generate insights for business stakeholders."
   ]
  },
  {
   "cell_type": "code",
   "execution_count": null,
   "metadata": {},
   "outputs": [],
   "source": [
    "# Sentiment distribution\n",
    "sentiment_summary = analyzed_df.analysis_sentiment.value_counts()\n",
    "print(\"Sentiment Distribution:\")\n",
    "print(sentiment_summary)\n",
    "\n",
    "print(\"\\n\" + \"=\"*50 + \"\\n\")\n",
    "\n",
    "# Priority breakdown\n",
    "priority_summary = analyzed_df.analysis_priority.value_counts()\n",
    "print(\"Priority Breakdown:\")\n",
    "print(priority_summary)\n",
    "\n",
    "print(\"\\n\" + \"=\"*50 + \"\\n\")\n",
    "\n",
    "# Category insights\n",
    "category_summary = analyzed_df.analysis_category.value_counts()\n",
    "print(\"Issue Categories:\")\n",
    "print(category_summary)"
   ]
  },
  {
   "cell_type": "markdown",
   "metadata": {},
   "source": [
    "## Action Items Generation\n",
    "\n",
    "Create prioritized action items for different teams."
   ]
  },
  {
   "cell_type": "code",
   "execution_count": null,
   "metadata": {},
   "outputs": [],
   "source": [
    "# High priority items\n",
    "urgent_issues = analyzed_df[\n",
    "    analyzed_df.analysis_priority.isin([\"high\", \"urgent\"])\n",
    "].sort_values(\"analysis_priority\")\n",
    "\n",
    "print(\"🚨 URGENT ACTION ITEMS:\")\n",
    "for _, row in urgent_issues.iterrows():\n",
    "    print(f\"\\n📋 Customer: {row.customer_id}\")\n",
    "    print(f\"   Category: {row.analysis_category.upper()}\")\n",
    "    print(f\"   Issue: {row.analysis_main_issue}\")\n",
    "    print(f\"   Action: {row.analysis_action_needed}\")"
   ]
  },
  {
   "cell_type": "markdown",
   "metadata": {},
   "source": [
    "## Conclusion\n",
    "\n",
    "This example shows how openaivec can transform raw customer feedback into:\n",
    "- Structured business intelligence\n",
    "- Prioritized action items\n",
    "- Team-specific insights\n",
    "- Automated categorization\n",
    "\n",
    "Scale this approach to thousands of reviews for comprehensive customer insight analysis."
   ]
  }
 ],
 "metadata": {
  "kernelspec": {
   "display_name": "Python 3",
   "language": "python",
   "name": "python3"
  },
  "language_info": {
   "codemirror_mode": {
    "name": "ipython",
    "version": 3
   },
   "file_extension": ".py",
   "mimetype": "text/x-python",
   "name": "python",
   "nbconvert_exporter": "python",
   "pygments_lexer": "ipython3",
   "version": "3.10.0"
  }
 },
 "nbformat": 4,
 "nbformat_minor": 4
}